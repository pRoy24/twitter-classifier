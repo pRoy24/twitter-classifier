{
 "cells": [
  {
   "cell_type": "code",
   "execution_count": 1,
   "metadata": {},
   "outputs": [],
   "source": [
    "from cassandra.cluster import Cluster\n",
    "import spacy\n",
    "import pandas as pd\n",
    "import operator\n",
    "from datetime import datetime\n",
    "\n",
    "nlp = spacy.load('en_core_web_lg')\n",
    "cluster = Cluster(['172.31.66.231'])\n",
    "session = cluster.connect('sharelock')"
   ]
  },
  {
   "cell_type": "code",
   "execution_count": 2,
   "metadata": {
    "scrolled": true
   },
   "outputs": [],
   "source": [
    "import math\n",
    "def get_row_score(row):\n",
    "    user_score = 1\n",
    "    if (row['user_score'] > 1):\n",
    "        user_score = math.log(row['user_score'])\n",
    "    return (row['likes'] + row['retweets'] * 2 ) * user_score\n",
    "\n",
    "stop_ents = ['#', \"@\"]\n",
    "def is_valid_ent(ent):\n",
    "    stop_found = False\n",
    "    for stop in stop_ents:\n",
    "        if stop in ent:\n",
    "            stop_found = True\n",
    "    return ent != topic and not stop_found and len(ent) > 3\\\n",
    "               and not \"http\" in ent and not ent.replace(\" \", \"\").isdigit()\n",
    "\n",
    "def get_ent_dictionary(sorted_result, topic):\n",
    "    ent_dict = {}\n",
    "\n",
    "    for idx, row in sorted_result.iterrows():\n",
    "        text_item = row['tweet_text']\n",
    "        tweet_item = row\n",
    "        text_doc = nlp(row['tweet_text'])\n",
    "        for ent in text_doc.ents:\n",
    "            stripped_ent = ent.lemma_.strip()\n",
    "            if (is_valid_ent(stripped_ent)):\n",
    "                if stripped_ent in ent_dict.keys():\n",
    "                    for t in ent_dict[stripped_ent]:\n",
    "                        tFound = False\n",
    "                        if t['tweet_id'] == tweet_item['tweet_id']:\n",
    "                            tFound = True\n",
    "                            break   \n",
    "                        if not tFound:\n",
    "                            ent_dict[stripped_ent].append(tweet_item)\n",
    "                else:\n",
    "                    ent_dict[stripped_ent] = [tweet_item]               \n",
    "    return ent_dict            "
   ]
  },
  {
   "cell_type": "code",
   "execution_count": 3,
   "metadata": {},
   "outputs": [],
   "source": [
    "def get_post_tag_map(row, ent_dict):\n",
    "    post_tag_dict = []\n",
    "    stop_ents = ['#', \"@\"]\n",
    "\n",
    "    text_item = row['tweet_text']\n",
    "    tweet_item = row\n",
    "    text_doc = nlp(row['tweet_text'])\n",
    "    tweet_id = row['tweet_id']\n",
    "    entity_list = []\n",
    "    for key in ent_dict:\n",
    "        frame_list = ent_dict[key]\n",
    "        for frame in frame_list:\n",
    "            if frame['tweet_id'] == tweet_id:\n",
    "                key_exists = [element for element in post_tag_dict if element['name'] == key]\n",
    "                if not key_exists:\n",
    "                    data = {}\n",
    "                    data[\"name\"] = key\n",
    "                    data[\"rank\"] = len(frame_list)\n",
    "                    post_tag_dict.append(data)\n",
    "    return post_tag_dict               \n",
    "    "
   ]
  },
  {
   "cell_type": "code",
   "execution_count": null,
   "metadata": {},
   "outputs": [],
   "source": []
  },
  {
   "cell_type": "code",
   "execution_count": 4,
   "metadata": {
    "scrolled": true
   },
   "outputs": [
    {
     "ename": "KeyboardInterrupt",
     "evalue": "",
     "output_type": "error",
     "traceback": [
      "\u001b[0;31m---------------------------------------------------------------------------\u001b[0m",
      "\u001b[0;31mKeyboardInterrupt\u001b[0m                         Traceback (most recent call last)",
      "\u001b[0;32m<ipython-input-4-07a5695f5deb>\u001b[0m in \u001b[0;36m<module>\u001b[0;34m()\u001b[0m\n\u001b[1;32m     22\u001b[0m \u001b[0;34m\u001b[0m\u001b[0m\n\u001b[1;32m     23\u001b[0m         \u001b[0;32mif\u001b[0m \u001b[0;32mnot\u001b[0m \u001b[0mresult\u001b[0m\u001b[0;34m.\u001b[0m\u001b[0mempty\u001b[0m\u001b[0;34m:\u001b[0m\u001b[0;34m\u001b[0m\u001b[0m\n\u001b[0;32m---> 24\u001b[0;31m             \u001b[0ment_dict\u001b[0m \u001b[0;34m=\u001b[0m \u001b[0mget_ent_dictionary\u001b[0m\u001b[0;34m(\u001b[0m\u001b[0msorted_result\u001b[0m\u001b[0;34m,\u001b[0m \u001b[0mtopic\u001b[0m\u001b[0;34m)\u001b[0m\u001b[0;34m\u001b[0m\u001b[0m\n\u001b[0m\u001b[1;32m     25\u001b[0m \u001b[0;34m\u001b[0m\u001b[0m\n\u001b[1;32m     26\u001b[0m             \u001b[0;32mfor\u001b[0m \u001b[0midx\u001b[0m\u001b[0;34m,\u001b[0m \u001b[0mrow\u001b[0m \u001b[0;32min\u001b[0m \u001b[0mresult\u001b[0m\u001b[0;34m.\u001b[0m\u001b[0miterrows\u001b[0m\u001b[0;34m(\u001b[0m\u001b[0;34m)\u001b[0m\u001b[0;34m:\u001b[0m\u001b[0;34m\u001b[0m\u001b[0m\n",
      "\u001b[0;32m<ipython-input-2-24396c61ddce>\u001b[0m in \u001b[0;36mget_ent_dictionary\u001b[0;34m(sorted_result, topic)\u001b[0m\n\u001b[1;32m     27\u001b[0m                     \u001b[0;32mfor\u001b[0m \u001b[0mt\u001b[0m \u001b[0;32min\u001b[0m \u001b[0ment_dict\u001b[0m\u001b[0;34m[\u001b[0m\u001b[0mstripped_ent\u001b[0m\u001b[0;34m]\u001b[0m\u001b[0;34m:\u001b[0m\u001b[0;34m\u001b[0m\u001b[0m\n\u001b[1;32m     28\u001b[0m                         \u001b[0mtFound\u001b[0m \u001b[0;34m=\u001b[0m \u001b[0;32mFalse\u001b[0m\u001b[0;34m\u001b[0m\u001b[0m\n\u001b[0;32m---> 29\u001b[0;31m                         \u001b[0;32mif\u001b[0m \u001b[0mt\u001b[0m\u001b[0;34m[\u001b[0m\u001b[0;34m'tweet_id'\u001b[0m\u001b[0;34m]\u001b[0m \u001b[0;34m==\u001b[0m \u001b[0mtweet_item\u001b[0m\u001b[0;34m[\u001b[0m\u001b[0;34m'tweet_id'\u001b[0m\u001b[0;34m]\u001b[0m\u001b[0;34m:\u001b[0m\u001b[0;34m\u001b[0m\u001b[0m\n\u001b[0m\u001b[1;32m     30\u001b[0m                             \u001b[0mtFound\u001b[0m \u001b[0;34m=\u001b[0m \u001b[0;32mTrue\u001b[0m\u001b[0;34m\u001b[0m\u001b[0m\n\u001b[1;32m     31\u001b[0m                             \u001b[0;32mbreak\u001b[0m\u001b[0;34m\u001b[0m\u001b[0m\n",
      "\u001b[0;32m~/anaconda3/lib/python3.6/site-packages/pandas/core/series.py\u001b[0m in \u001b[0;36m__getitem__\u001b[0;34m(self, key)\u001b[0m\n\u001b[1;32m    764\u001b[0m         \u001b[0mkey\u001b[0m \u001b[0;34m=\u001b[0m \u001b[0mcom\u001b[0m\u001b[0;34m.\u001b[0m\u001b[0m_apply_if_callable\u001b[0m\u001b[0;34m(\u001b[0m\u001b[0mkey\u001b[0m\u001b[0;34m,\u001b[0m \u001b[0mself\u001b[0m\u001b[0;34m)\u001b[0m\u001b[0;34m\u001b[0m\u001b[0m\n\u001b[1;32m    765\u001b[0m         \u001b[0;32mtry\u001b[0m\u001b[0;34m:\u001b[0m\u001b[0;34m\u001b[0m\u001b[0m\n\u001b[0;32m--> 766\u001b[0;31m             \u001b[0mresult\u001b[0m \u001b[0;34m=\u001b[0m \u001b[0mself\u001b[0m\u001b[0;34m.\u001b[0m\u001b[0mindex\u001b[0m\u001b[0;34m.\u001b[0m\u001b[0mget_value\u001b[0m\u001b[0;34m(\u001b[0m\u001b[0mself\u001b[0m\u001b[0;34m,\u001b[0m \u001b[0mkey\u001b[0m\u001b[0;34m)\u001b[0m\u001b[0;34m\u001b[0m\u001b[0m\n\u001b[0m\u001b[1;32m    767\u001b[0m \u001b[0;34m\u001b[0m\u001b[0m\n\u001b[1;32m    768\u001b[0m             \u001b[0;32mif\u001b[0m \u001b[0;32mnot\u001b[0m \u001b[0mis_scalar\u001b[0m\u001b[0;34m(\u001b[0m\u001b[0mresult\u001b[0m\u001b[0;34m)\u001b[0m\u001b[0;34m:\u001b[0m\u001b[0;34m\u001b[0m\u001b[0m\n",
      "\u001b[0;32m~/anaconda3/lib/python3.6/site-packages/pandas/core/indexes/base.py\u001b[0m in \u001b[0;36mget_value\u001b[0;34m(self, series, key)\u001b[0m\n\u001b[1;32m   3100\u001b[0m         \u001b[0mk\u001b[0m \u001b[0;34m=\u001b[0m \u001b[0mself\u001b[0m\u001b[0;34m.\u001b[0m\u001b[0m_convert_scalar_indexer\u001b[0m\u001b[0;34m(\u001b[0m\u001b[0mk\u001b[0m\u001b[0;34m,\u001b[0m \u001b[0mkind\u001b[0m\u001b[0;34m=\u001b[0m\u001b[0;34m'getitem'\u001b[0m\u001b[0;34m)\u001b[0m\u001b[0;34m\u001b[0m\u001b[0m\n\u001b[1;32m   3101\u001b[0m         \u001b[0;32mtry\u001b[0m\u001b[0;34m:\u001b[0m\u001b[0;34m\u001b[0m\u001b[0m\n\u001b[0;32m-> 3102\u001b[0;31m             return self._engine.get_value(s, k,\n\u001b[0m\u001b[1;32m   3103\u001b[0m                                           tz=getattr(series.dtype, 'tz', None))\n\u001b[1;32m   3104\u001b[0m         \u001b[0;32mexcept\u001b[0m \u001b[0mKeyError\u001b[0m \u001b[0;32mas\u001b[0m \u001b[0me1\u001b[0m\u001b[0;34m:\u001b[0m\u001b[0;34m\u001b[0m\u001b[0m\n",
      "\u001b[0;31mKeyboardInterrupt\u001b[0m: "
     ]
    }
   ],
   "source": [
    "import json\n",
    "\n",
    "topic_list_query = \"SELECT * from sharelock.topic_list\"\n",
    "topic_rows = session.execute(topic_list_query)\n",
    "topic_row_list = list(topic_rows)\n",
    "topic_frames = pd.DataFrame(topic_row_list)  \n",
    "pd.set_option('display.max_colwidth', -1)\n",
    "for idx, frame in topic_frames.iterrows():\n",
    "    topic = frame['topic']\n",
    "    category = frame['category']\n",
    "    query = \"SELECT * from sharelock.active_tweets where category='\"+category+\"'allow filtering\"\n",
    "    rows = session.execute(query)\n",
    "    row_list = list(rows)\n",
    "\n",
    "    result = []\n",
    "    ent_dict = {}    \n",
    "    if len(row_list) > 0:\n",
    "        print(len(row_list))\n",
    "        result = pd.DataFrame(row_list)   \n",
    "        result = result[result['topic'] == topic]\n",
    "\n",
    "        sorted_result = df = pd.DataFrame(data=result)\n",
    "\n",
    "        if not result.empty:\n",
    "            ent_dict = get_ent_dictionary(sorted_result, topic)\n",
    "            \n",
    "            for idx, row in result.iterrows():\n",
    "                post_ent_list = get_post_tag_map(row, ent_dict) \n",
    "                enity_score = 0\n",
    "                for ent in post_ent_list:\n",
    "                    enity_score = enity_score + ent['rank']\n",
    "\n",
    "                SQL_QUERY = \"INSERT INTO sharelock.tweet_tags_with_rank (tweet_id , topic, category, entity_list, entity_score) values (?,?,?,?, ?)\"\n",
    "                params = [row['tweet_id'], row['topic'], row['category'], json.dumps(post_ent_list), enity_score]\n",
    "                prepared = session.prepare(SQL_QUERY)\n",
    "                session.execute(prepared, params)\n",
    "                # Create api endpoint for posts with entity rankings  \n",
    "       \n",
    "        if ent_dict:\n",
    "            frame_score_list = {}\n",
    "\n",
    "            for key in ent_dict:\n",
    "                frame_score = 0\n",
    "                frame_list = ent_dict[key]\n",
    "                frame_tag = key\n",
    "                frame_tweet_list = []\n",
    "\n",
    "                for frame in frame_list:\n",
    "                    frame_score = frame_score + frame['raw_score']\n",
    "                    frame_obj = {}\n",
    "                    raw_score = frame['raw_score']\n",
    "                    tweet_id = frame['tweet_id']\n",
    "                    tweet_text = row['tweet_text']\n",
    "\n",
    "                    frame_tweet_list.append({\"id\": tweet_id, \"text\": tweet_text, \"score\": raw_score})\n",
    "                    \n",
    "                insert_time = int(datetime.utcnow().timestamp())   \n",
    "                insert_values = [topic, category, frame_tag, json.dumps(frame_tweet_list), frame_score, insert_time]\n",
    "                # print(insert_values)  \n",
    "                # [{id, text, score}, {}, {}, {}] {id, text, }\n",
    "                sql_query = \"INSERT INTO sharelock.filtered_tag_frame (topic, category, tag, tweet_map, frame_raw_score, inserted_at) values (?, ?, ?, ?, ?, ?)\"\n",
    "                prepared = session.prepare(sql_query)\n",
    "                session.execute(prepared, (insert_values))\n"
   ]
  },
  {
   "cell_type": "code",
   "execution_count": null,
   "metadata": {},
   "outputs": [],
   "source": []
  },
  {
   "cell_type": "code",
   "execution_count": null,
   "metadata": {},
   "outputs": [],
   "source": []
  }
 ],
 "metadata": {
  "kernelspec": {
   "display_name": "Python 3",
   "language": "python",
   "name": "python3"
  },
  "language_info": {
   "codemirror_mode": {
    "name": "ipython",
    "version": 3
   },
   "file_extension": ".py",
   "mimetype": "text/x-python",
   "name": "python",
   "nbconvert_exporter": "python",
   "pygments_lexer": "ipython3",
   "version": "3.6.5"
  }
 },
 "nbformat": 4,
 "nbformat_minor": 2
}
