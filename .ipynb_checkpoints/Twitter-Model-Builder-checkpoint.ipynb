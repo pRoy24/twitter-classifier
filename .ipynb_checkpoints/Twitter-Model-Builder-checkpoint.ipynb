{
 "cells": [
  {
   "cell_type": "code",
   "execution_count": 69,
   "metadata": {},
   "outputs": [],
   "source": [
    "from cassandra.cluster import Cluster\n",
    "import spacy\n",
    "import pandas as pd\n",
    "\n",
    "nlp = spacy.load('en_core_web_lg')\n",
    "cluster = Cluster(['127.0.0.1'])\n",
    "session = cluster.connect('sharelock')"
   ]
  },
  {
   "cell_type": "code",
   "execution_count": 70,
   "metadata": {},
   "outputs": [],
   "source": [
    "def get_sentence_score(doc):\n",
    "    # number of entitites * number of sentences\n",
    "    num_sents = len(list(doc.sents))\n",
    "    num_ents = len(list(doc.ents))\n",
    "    return num_sents * num_ents\n",
    "    "
   ]
  },
  {
   "cell_type": "code",
   "execution_count": 71,
   "metadata": {},
   "outputs": [],
   "source": [
    "topic_list_query = \"SELECT * from sharelock.topic_list\"\n",
    "topic_rows = session.execute(topic_list_query)\n",
    "topic_row_list = list(topic_rows)\n",
    "topic_frames = pd.DataFrame(topic_row_list)  \n",
    "\n",
    "categories = set()\n",
    "for idx, row in topic_frames.iterrows():\n",
    "      categories.add(row['category'])\n",
    "\n",
    "CATEGORY_LIST = list(categories)        \n"
   ]
  },
  {
   "cell_type": "code",
   "execution_count": 72,
   "metadata": {},
   "outputs": [],
   "source": [
    "import datetime\n",
    "def get_category_spam_classifier(category):    \n",
    "    return 1\n"
   ]
  },
  {
   "cell_type": "code",
   "execution_count": 73,
   "metadata": {},
   "outputs": [],
   "source": [
    "def get_category_relevance_classifier(topic):\n",
    "    return 1"
   ]
  },
  {
   "cell_type": "code",
   "execution_count": null,
   "metadata": {},
   "outputs": [],
   "source": []
  },
  {
   "cell_type": "code",
   "execution_count": 74,
   "metadata": {},
   "outputs": [],
   "source": [
    "import datetime\n",
    "def category_data_frame(category):\n",
    "    # crunch numbers every 10 minutes with data fron last 30 minutes\n",
    "    lastHourDateTime = datetime.datetime.now() - datetime.timedelta(days = 1)\n",
    "    date_str = lastHourDateTime.strftime(\"%Y-%m-%d %H:%M:%S\")\n",
    "    sql_str = \"SELECT * FROM sharelock.labelled_tweets WHERE category='\"+category+\"' allow filtering;\"\n",
    "    df_filtered = []\n",
    "    rows = session.execute(sql_str)\n",
    "    row_list = list(rows)\n",
    "    if len(row_list) > 0:\n",
    "        result = pd.DataFrame(row_list)   \n",
    "        df_filtered = result.query('is_graded')\n",
    "    df_filtered.set_index('tweet_id')\n",
    "    df_filtered = df_filtered.drop_duplicates(subset='tweet_id', keep='last')\n",
    "    return df_filtered\n",
    "\n"
   ]
  },
  {
   "cell_type": "code",
   "execution_count": 75,
   "metadata": {},
   "outputs": [],
   "source": [
    "def get_sentence_score(tweet_doc):\n",
    "    # number of entitites * number of sentences\n",
    "    num_sents = len(list(tweet_doc.sents))\n",
    "    num_ents = len(list(tweet_doc.ents))\n",
    "    return num_sents * num_ents\n",
    "        "
   ]
  },
  {
   "cell_type": "code",
   "execution_count": 76,
   "metadata": {},
   "outputs": [],
   "source": [
    "# number of hash-tags or mentions\n",
    "def get_tag_score(doc):\n",
    "    tag_score = 0\n",
    "    for token in doc:\n",
    "        if \"#\" in token.text or \"@\" in token.text:\n",
    "            tag_score = tag_score + 1 \n",
    "    return tag_score  "
   ]
  },
  {
   "cell_type": "code",
   "execution_count": 77,
   "metadata": {},
   "outputs": [],
   "source": [
    "upper_caps_stops = ['I']\n",
    "import constants\n",
    "\n",
    "spam_word_stops = constants.SPAM_WORDS\n",
    "\n",
    "def get_structure_score(doc):\n",
    "    token_penalty = 0\n",
    "    for token in doc:\n",
    "        token_text = token.text\n",
    "        prev_token_caps = False\n",
    "        if token_text.isupper():\n",
    "            if prev_token_caps:\n",
    "                token_penalty = token_penalty + 10\n",
    "            prev_token_caps = True\n",
    "        else:\n",
    "            prev_token_caps = False\n",
    "        if token_text in upper_caps_stops:\n",
    "            token_penalty = token_penalty + 10\n",
    "        if token_text.lower() in spam_word_stops:\n",
    "            token_penalty = token_penalty + 10 \n",
    "    return token_penalty    "
   ]
  },
  {
   "cell_type": "code",
   "execution_count": 78,
   "metadata": {},
   "outputs": [],
   "source": [
    "import numpy as np\n",
    "from langdetect import detect\n",
    "\n",
    "# get corpus of news text on topic\n",
    "def get_topic_web_corpus(category):\n",
    "    sql_str = \"SELECT * from sharelock.topic_link_data where link_category='\"+category+\"' allow filtering;\"\n",
    "    corpus_data = session.execute(sql_str)\n",
    "    topic_corpus = pd.DataFrame(list(corpus_data))\n",
    "    topic_corpus['body_doc'] = topic_corpus['link_text'].apply(nlp)\n",
    "    topic_corpus['head_doc'] = topic_corpus['link_title'].apply(nlp)\n",
    "    return topic_corpus\n",
    "\n",
    "web_corpus_list = {}\n",
    "\n",
    "doc_title_list = []\n",
    "doc_body_list = []\n",
    "\n",
    "for category in CATEGORY_LIST:\n",
    "    web_corpus = get_topic_web_corpus(category)\n",
    "    web_corpus_list[category] = web_corpus\n",
    "\n",
    "    \n",
    "def get_body_relevance_score(sentence_doc, frame_category):\n",
    "    category_text_corpus = web_corpus_list[frame_category]\n",
    "    body_relevance_score = []\n",
    "    counter = 0\n",
    "    for corpus_body in category_text_corpus['body_doc']:\n",
    "        body_sents = corpus_body.sents\n",
    "        counter = counter + len(list(body_sents)) \n",
    "        for corpus_sentence in body_sents:\n",
    "            body_relevance_score.append(corpus_sentence.as_doc().similarity(sentence_doc))         \n",
    "    return body_relevance_score    \n",
    "\n",
    "\n",
    "def get_head_relevance_score(sentence_doc, frame_category):\n",
    "    category_text_corpus = web_corpus_list[frame_category]\n",
    "\n",
    "    head_relevance_score = []\n",
    "    counter = 0\n",
    "    for corpus_head in category_text_corpus['head_doc']:\n",
    "        head_sents = corpus_head.sents\n",
    "        counter = counter + len(list(head_sents))   \n",
    "        for corpus_sentence in head_sents:\n",
    "            head_relevance_score.append(corpus_sentence.as_doc().similarity(sentence_doc))      \n",
    "    return head_relevance_score    \n",
    "    \n",
    "    "
   ]
  },
  {
   "cell_type": "code",
   "execution_count": 79,
   "metadata": {},
   "outputs": [],
   "source": [
    "import math\n",
    "def get_raw_score(frame):\n",
    "    user_score = 1\n",
    "    if frame['user_score'] > 1:\n",
    "        user_score = math.log(frame['user_score'])\n",
    "    base_score = frame['likes'] + frame['retweets'] * 2\n",
    "    if base_score < 1:\n",
    "        base_score = 1\n",
    "    return base_score * user_score "
   ]
  },
  {
   "cell_type": "code",
   "execution_count": 80,
   "metadata": {
    "scrolled": false
   },
   "outputs": [
    {
     "name": "stdout",
     "output_type": "stream",
     "text": [
      "crypto\n"
     ]
    },
    {
     "name": "stderr",
     "output_type": "stream",
     "text": [
      "/home/ubuntu/anaconda3/envs/ml_conda/lib/python3.5/site-packages/sklearn/utils/validation.py:475: DataConversionWarning: Data with input dtype int64 was converted to float64 by MinMaxScaler.\n",
      "  warnings.warn(msg, DataConversionWarning)\n"
     ]
    },
    {
     "name": "stdout",
     "output_type": "stream",
     "text": [
      "software\n",
      "drone\n",
      "gaming\n"
     ]
    },
    {
     "data": {
      "image/png": "[encoded data removed]",
      "text/plain": [
       "<Figure size 648x648 with 2 Axes>"
      ]
     },
     "metadata": {},
     "output_type": "display_data"
    },
    {
     "data": {
      "image/png": "[encoded data removed]",
      "text/plain": [
       "<Figure size 648x648 with 2 Axes>"
      ]
     },
     "metadata": {},
     "output_type": "display_data"
    },
    {
     "data": {
      "image/png": "[encoded data removed]",
      "text/plain": [
       "<Figure size 648x648 with 2 Axes>"
      ]
     },
     "metadata": {},
     "output_type": "display_data"
    },
    {
     "data": {
      "image/png": "[encoded data removed]",
      "text/plain": [
       "<Figure size 648x648 with 2 Axes>"
      ]
     },
     "metadata": {},
     "output_type": "display_data"
    }
   ],
   "source": [
    "from sklearn_pandas import DataFrameMapper, cross_val_score\n",
    "# update table save features\n",
    "import matplotlib.pyplot as plt\n",
    "import seaborn as sns\n",
    "from sklearn import metrics\n",
    "from sklearn.linear_model import LogisticRegression\n",
    "from sklearn.model_selection import train_test_split\n",
    "from sklearn.preprocessing import MinMaxScaler\n",
    "import sklearn\n",
    "from sklearn.metrics import confusion_matrix\n",
    "from sklearn.svm import SVC\n",
    "from sklearn.feature_extraction.text import TfidfVectorizer\n",
    "from sklearn.externals import joblib\n",
    "    \n",
    "for category in CATEGORY_LIST:\n",
    "    category_frame = category_data_frame(category)\n",
    "    tf_vect =  TfidfVectorizer({\"analyzer\": \"word\", \"ngram_range\": (1, 3), \"stop_words\": \"english\", \"max_df\": 1.0, \"min_df\": 4})\n",
    "    if (len(category_frame)) > 0:\n",
    "        category_frame['text_tokens'] = category_frame['tweet_text'].apply(nlp)\n",
    "        category_frame['sentence_score'] = category_frame['text_tokens'].apply(get_sentence_score)\n",
    "        category_frame['tag_score'] = category_frame['text_tokens'].apply(get_tag_score)\n",
    "        category_frame['structure_score'] = category_frame['text_tokens'].apply(get_structure_score)\n",
    "        category_frame['raw_score'] = category_frame.apply(get_raw_score, axis=1)\n",
    "        category_frame['body_relevance_score'] = category_frame['text_tokens'].apply(get_body_relevance_score, args = (category,))\n",
    "        category_frame['head_relevance_score'] = category_frame['text_tokens'].apply(get_head_relevance_score, args = (category,))\n",
    "        print(category)\n",
    "        mapped_features = DataFrameMapper([\n",
    "            ('tweet_text', tf_vect),\n",
    "            (['sentence_score'], MinMaxScaler(feature_range=(0, 1))),\n",
    "            (['tag_score'], MinMaxScaler(feature_range=(0, 1))),\n",
    "            (['structure_score'], MinMaxScaler(feature_range=(0, 1))),\n",
    "            (['raw_score'], MinMaxScaler(feature_range=(0, 1))),\n",
    "            (['user_score'], MinMaxScaler(feature_range=(0, 1)))\n",
    "        ])\n",
    "\n",
    "        feature_vector = mapped_features.fit_transform(category_frame)        \n",
    "        head_relevance_matrix = category_frame['body_relevance_score'].values\n",
    "        body_relevance_matrix = category_frame['head_relevance_score'].values\n",
    "        final_features = []\n",
    "\n",
    "        for idx, f in enumerate(feature_vector):\n",
    "            final_features.append(list(feature_vector[idx]) + list(head_relevance_matrix[idx]) + list(body_relevance_matrix[idx]))\n",
    "                                  \n",
    "        result_frame = category_frame['is_relevant'].astype(int)   \n",
    "        y_frame = result_frame.astype('int')\n",
    "        X_train, X_test, y_train, y_test = train_test_split(final_features, y_frame, test_size=0.33, random_state=42)\n",
    "\n",
    "        relevance_log_reg = LogisticRegression()\n",
    "\n",
    "        try:\n",
    "            relevance_log_reg.fit(X_train, y_train)\n",
    "            predictions = relevance_log_reg.predict(X_test)\n",
    "            pr = metrics.mean_absolute_error(y_test, predictions)\n",
    "            from sklearn.metrics import confusion_matrix\n",
    "            confusion_matrix = confusion_matrix(y_test, predictions)\n",
    "            cm = metrics.confusion_matrix(y_test, predictions)\n",
    "            score = relevance_log_reg.score(X_test, y_test)\n",
    "\n",
    "            plt.figure(figsize=(9,9))\n",
    "            sns.heatmap(cm, annot=True, fmt=\".3f\", linewidths=.5, square = True, cmap = 'Blues_r');\n",
    "            plt.ylabel('Actual label');\n",
    "            plt.xlabel('Predicted label');\n",
    "            all_sample_title = 'Relevance Prediction Score: {0}'.format(score)\n",
    "            plt.title(all_sample_title, size = 15);\n",
    "            \n",
    "        except Exception as e:\n",
    "            print(e)\n",
    "            \n",
    "        result_frame = category_frame['is_spam'].astype(int)    \n",
    "        y_frame = result_frame.astype('int')\n",
    "        X_train, X_test, y_train, y_test = train_test_split(final_features, y_frame, test_size=0.33, random_state=42)\n",
    "\n",
    "        spam_log_reg = LogisticRegression()\n",
    "        try:\n",
    "            spam_log_reg.fit(X_train, y_train)\n",
    "            predictions = spam_log_reg.predict(X_test)\n",
    "            pr = metrics.mean_absolute_error(y_test, predictions)\n",
    "            cm = metrics.confusion_matrix(y_test, predictions)\n",
    "            score = spam_log_reg.score(X_test, y_test)\n",
    "            \n",
    "            plt.figure(figsize=(9,9))\n",
    "            sns.heatmap(cm, annot=True, fmt=\".3f\", linewidths=.5, square = True, cmap = 'Blues_r');\n",
    "            plt.ylabel('Actual label');\n",
    "            plt.xlabel('Predicted label');\n",
    "            all_sample_title = 'Spam Prediction Score: {0}'.format(score)\n",
    "            plt.title(all_sample_title, size = 15);\n",
    "\n",
    "        except Exception as e:\n",
    "            print(e)     \n",
    "                         \n",
    "        joblib.dump(relevance_log_reg, '%s-relevance-classifier.pkl' % category) \n",
    "        joblib.dump(spam_log_reg, '%s-spam-classifier.pkl' % category) \n",
    "\n",
    "        joblib.dump(tf_vect, '%s-tf-vect.pkl' % category)\n",
    "        joblib.dump(mapped_features, '%s-mapper.pkl' % category)\n",
    "        "
   ]
  },
  {
   "cell_type": "code",
   "execution_count": null,
   "metadata": {},
   "outputs": [],
   "source": []
  },
  {
   "cell_type": "code",
   "execution_count": null,
   "metadata": {},
   "outputs": [],
   "source": []
  },
  {
   "cell_type": "code",
   "execution_count": null,
   "metadata": {},
   "outputs": [],
   "source": []
  }
 ],
 "metadata": {
  "kernelspec": {
   "display_name": "Python 3",
   "language": "python",
   "name": "python3"
  },
  "language_info": {
   "codemirror_mode": {
    "name": "ipython",
    "version": 3
   },
   "file_extension": ".py",
   "mimetype": "text/x-python",
   "name": "python",
   "nbconvert_exporter": "python",
   "pygments_lexer": "ipython3",
   "version": "3.5.5"
  }
 },
 "nbformat": 4,
 "nbformat_minor": 2
}
